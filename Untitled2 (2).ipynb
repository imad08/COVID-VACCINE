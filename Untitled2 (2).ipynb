{
  "nbformat": 4,
  "nbformat_minor": 0,
  "metadata": {
    "colab": {
      "name": "Untitled2.ipynb",
      "provenance": []
    },
    "kernelspec": {
      "name": "python3",
      "display_name": "Python 3"
    },
    "language_info": {
      "name": "python"
    }
  },
  "cells": [
    {
      "cell_type": "code",
      "metadata": {
        "colab": {
          "base_uri": "https://localhost:8080/"
        },
        "id": "0KlJfOvEc9zl",
        "outputId": "bc4c1da9-3e04-40f5-d719-a61fc369ada8"
      },
      "source": [
        "pip install pip install GetOldTweets3 \n"
      ],
      "execution_count": 42,
      "outputs": [
        {
          "output_type": "stream",
          "text": [
            "Requirement already satisfied: pip in /usr/local/lib/python3.7/dist-packages (19.3.1)\n",
            "Requirement already satisfied: install in /usr/local/lib/python3.7/dist-packages (1.3.4)\n",
            "Requirement already satisfied: GetOldTweets3 in /usr/local/lib/python3.7/dist-packages (0.0.11)\n",
            "Requirement already satisfied: pyquery>=1.2.10 in /usr/local/lib/python3.7/dist-packages (from GetOldTweets3) (1.4.3)\n",
            "Requirement already satisfied: lxml>=3.5.0 in /usr/local/lib/python3.7/dist-packages (from GetOldTweets3) (4.2.6)\n",
            "Requirement already satisfied: cssselect>0.7.9 in /usr/local/lib/python3.7/dist-packages (from pyquery>=1.2.10->GetOldTweets3) (1.1.0)\n"
          ],
          "name": "stdout"
        }
      ]
    },
    {
      "cell_type": "code",
      "metadata": {
        "id": "z6TRmjdoga7s"
      },
      "source": [
        "import GetOldTweets3 as got"
      ],
      "execution_count": null,
      "outputs": []
    },
    {
      "cell_type": "code",
      "metadata": {
        "colab": {
          "base_uri": "https://localhost:8080/",
          "height": 178
        },
        "id": "SD-MK3BLgrJc",
        "outputId": "4988621e-a984-4406-a7dd-9c91319d4884"
      },
      "source": [
        "tweetCriteria = got.manager.TweetCriteria().setQuerySearch('europe refugees')\\\n",
        "                                           .setSince(\"2015-05-01\")\\\n",
        "                                           .setUntil(\"2015-09-30\")\\\n",
        "                                           .setMaxTweets(1)\n",
        "tweet = got.manager.TweetManager.getTweets(tweetCriteria)[0]\n",
        "print(tweet.text)"
      ],
      "execution_count": null,
      "outputs": [
        {
          "output_type": "stream",
          "text": [
            "An error occured during an HTTP request: HTTP Error 404: Not Found\n",
            "Try to open in browser: https://twitter.com/search?q=europe%20refugees%20since%3A2015-05-01%20until%3A2015-09-30&src=typd\n"
          ],
          "name": "stdout"
        },
        {
          "output_type": "error",
          "ename": "SystemExit",
          "evalue": "ignored",
          "traceback": [
            "An exception has occurred, use %tb to see the full traceback.\n",
            "\u001b[0;31mSystemExit\u001b[0m\n"
          ]
        },
        {
          "output_type": "stream",
          "text": [
            "/usr/local/lib/python3.7/dist-packages/IPython/core/interactiveshell.py:2890: UserWarning: To exit: use 'exit', 'quit', or Ctrl-D.\n",
            "  warn(\"To exit: use 'exit', 'quit', or Ctrl-D.\", stacklevel=1)\n"
          ],
          "name": "stderr"
        }
      ]
    },
    {
      "cell_type": "code",
      "metadata": {
        "colab": {
          "base_uri": "https://localhost:8080/"
        },
        "id": "lktgYkilh-KE",
        "outputId": "549eddcc-d837-4fb2-fba4-e16837ee5192"
      },
      "source": [
        "pip install snscrape\n"
      ],
      "execution_count": 128,
      "outputs": [
        {
          "output_type": "stream",
          "text": [
            "Requirement already satisfied: snscrape in /usr/local/lib/python3.7/dist-packages (0.3.4)\n",
            "Requirement already satisfied: lxml in /usr/local/lib/python3.7/dist-packages (from snscrape) (4.2.6)\n",
            "Requirement already satisfied: beautifulsoup4 in /usr/local/lib/python3.7/dist-packages (from snscrape) (4.6.3)\n",
            "Requirement already satisfied: requests[socks] in /usr/local/lib/python3.7/dist-packages (from snscrape) (2.23.0)\n",
            "Requirement already satisfied: idna<3,>=2.5 in /usr/local/lib/python3.7/dist-packages (from requests[socks]->snscrape) (2.10)\n",
            "Requirement already satisfied: urllib3!=1.25.0,!=1.25.1,<1.26,>=1.21.1 in /usr/local/lib/python3.7/dist-packages (from requests[socks]->snscrape) (1.24.3)\n",
            "Requirement already satisfied: chardet<4,>=3.0.2 in /usr/local/lib/python3.7/dist-packages (from requests[socks]->snscrape) (3.0.4)\n",
            "Requirement already satisfied: certifi>=2017.4.17 in /usr/local/lib/python3.7/dist-packages (from requests[socks]->snscrape) (2020.12.5)\n",
            "Requirement already satisfied: PySocks!=1.5.7,>=1.5.6; extra == \"socks\" in /usr/local/lib/python3.7/dist-packages (from requests[socks]->snscrape) (1.7.1)\n"
          ],
          "name": "stdout"
        }
      ]
    },
    {
      "cell_type": "code",
      "metadata": {
        "id": "_0Q1JKT7iOqn"
      },
      "source": [
        "import snscrape.modules.twitter as sntwitter\n",
        "import pandas as pd\n",
        "\n",
        "# Creating list to append tweet data to\n",
        "tweets_list2 = []\n",
        "\n",
        "# Using TwitterSearchScraper to scrape data and append tweets to list\n",
        "for i,tweet in enumerate(sntwitter.TwitterSearchScraper('covid vaccine:2021-03-01 until:2021-03-24').get_items()):\n",
        "    if i>5000:\n",
        "        break\n",
        "    tweets_list2.append([tweet.date, tweet.id, tweet.content, tweet.user.username])\n",
        "    \n",
        "# Creating a dataframe from the tweets list above\n",
        "tweets_df2 = pd.DataFrame(tweets_list2, columns=['Datetime', 'Tweet Id', 'Text', 'Username'])"
      ],
      "execution_count": 123,
      "outputs": []
    },
    {
      "cell_type": "code",
      "metadata": {
        "colab": {
          "base_uri": "https://localhost:8080/"
        },
        "id": "lEsso2SIi_Wt",
        "outputId": "5e3efd2f-7a3b-4057-afa8-3150d98b74ff"
      },
      "source": [
        "print(tweets_df2)"
      ],
      "execution_count": 126,
      "outputs": [
        {
          "output_type": "stream",
          "text": [
            "                      Datetime  ...         Username\n",
            "0    2021-03-24 10:31:24+00:00  ...        ua_shirin\n",
            "1    2021-03-24 10:30:34+00:00  ...     PIBHyderabad\n",
            "2    2021-03-24 08:01:46+00:00  ...      navneethyk9\n",
            "3    2021-03-24 06:03:03+00:00  ...  AtotalmessAnshu\n",
            "4    2021-03-24 03:31:59+00:00  ...        rdhinakar\n",
            "...                        ...  ...              ...\n",
            "996  2021-01-04 07:37:44+00:00  ...      FOBSrinagar\n",
            "997  2021-01-04 07:36:04+00:00  ...      FOBSrinagar\n",
            "998  2021-01-04 07:24:07+00:00  ...  AashrithMadire1\n",
            "999  2021-01-04 07:22:01+00:00  ...   DILIPKUMAR9990\n",
            "1000 2021-01-04 06:32:08+00:00  ...      FOBSrinagar\n",
            "\n",
            "[1001 rows x 4 columns]\n"
          ],
          "name": "stdout"
        }
      ]
    },
    {
      "cell_type": "code",
      "metadata": {
        "id": "p4aM0kVrj2cW"
      },
      "source": [
        "import snscrape.modules.twitter as sntwitter\n",
        "import pandas as pd\n",
        "\n",
        "# Creating list to append tweet data to\n",
        "tweets_list2 = []\n",
        "\n",
        "# Using TwitterSearchScraper to scrape data and append tweets to list\n",
        "for i,tweet in enumerate(sntwitter.TwitterSearchScraper('indiafightscorona lang:\"en\" since:2020-08-01 until:2021-03-25 near:\"mumbai\" within:4000mi').get_items()):\n",
        "    if i>5000:\n",
        "        break\n",
        "    tweets_list2.append([tweet.date, tweet.id, tweet.content, tweet.username])\n",
        "    \n",
        "# Creating a dataframe from the tweets list above\n",
        "tweets_df2 = pd.DataFrame(tweets_list2, columns=['Datetime', 'Tweet Id', 'Text', 'Username'])\n"
      ],
      "execution_count": 129,
      "outputs": []
    },
    {
      "cell_type": "code",
      "metadata": {
        "id": "lZuHgS4xkHVl",
        "colab": {
          "base_uri": "https://localhost:8080/"
        },
        "outputId": "8b53ab38-8470-401a-c7eb-a7278f3ce59e"
      },
      "source": [
        "tweets_df2.info()\n",
        "print(tweets_df2['Text'][3])"
      ],
      "execution_count": 130,
      "outputs": [
        {
          "output_type": "stream",
          "text": [
            "<class 'pandas.core.frame.DataFrame'>\n",
            "RangeIndex: 3226 entries, 0 to 3225\n",
            "Data columns (total 4 columns):\n",
            " #   Column    Non-Null Count  Dtype              \n",
            "---  ------    --------------  -----              \n",
            " 0   Datetime  3226 non-null   datetime64[ns, UTC]\n",
            " 1   Tweet Id  3226 non-null   int64              \n",
            " 2   Text      3226 non-null   object             \n",
            " 3   Username  3226 non-null   object             \n",
            "dtypes: datetime64[ns, UTC](1), int64(1), object(2)\n",
            "memory usage: 100.9+ KB\n",
            "#IndiaFightsCorona:\n",
            "\n",
            "📍MHA Guidelines for effective control of COVID-19:\n",
            "\n",
            "☑️ Under Test-Track-Treat protocol new cases must be isolated\n",
            "\n",
            "☑️ Fines shall be enforced for not wearing face mask, hand hygiene etc\n",
            "\n",
            "☑️ State/UT govt should pace up vaccination process\n",
            "\n",
            "#Unite2FightCorona https://t.co/8h6VA1YCsL\n"
          ],
          "name": "stdout"
        }
      ]
    },
    {
      "cell_type": "code",
      "metadata": {
        "colab": {
          "base_uri": "https://localhost:8080/"
        },
        "id": "OQwfaH9mCMZV",
        "outputId": "ca22c93e-622e-479a-ac1d-e33919cf940b"
      },
      "source": [
        "for i in range(3226):\n",
        "  tweets_df2['Text'][i]=tweets_df2['Text'][i].lower()\n",
        "  tweets_df2['Text'][i] = tweets_df2['Text'][i].encode('ascii', 'ignore').decode()"
      ],
      "execution_count": 131,
      "outputs": [
        {
          "output_type": "stream",
          "text": [
            "/usr/local/lib/python3.7/dist-packages/ipykernel_launcher.py:2: SettingWithCopyWarning: \n",
            "A value is trying to be set on a copy of a slice from a DataFrame\n",
            "\n",
            "See the caveats in the documentation: https://pandas.pydata.org/pandas-docs/stable/user_guide/indexing.html#returning-a-view-versus-a-copy\n",
            "  \n",
            "/usr/local/lib/python3.7/dist-packages/ipykernel_launcher.py:3: SettingWithCopyWarning: \n",
            "A value is trying to be set on a copy of a slice from a DataFrame\n",
            "\n",
            "See the caveats in the documentation: https://pandas.pydata.org/pandas-docs/stable/user_guide/indexing.html#returning-a-view-versus-a-copy\n",
            "  This is separate from the ipykernel package so we can avoid doing imports until\n"
          ],
          "name": "stderr"
        }
      ]
    },
    {
      "cell_type": "code",
      "metadata": {
        "colab": {
          "base_uri": "https://localhost:8080/"
        },
        "id": "2cGI0pb0CZ3S",
        "outputId": "22cbb3f2-f3b7-49a9-9bb5-6e3b408a50e8"
      },
      "source": [
        "print(tweets_df2['Text'][3])"
      ],
      "execution_count": 132,
      "outputs": [
        {
          "output_type": "stream",
          "text": [
            "#indiafightscorona:\n",
            "\n",
            "mha guidelines for effective control of covid-19:\n",
            "\n",
            " under test-track-treat protocol new cases must be isolated\n",
            "\n",
            " fines shall be enforced for not wearing face mask, hand hygiene etc\n",
            "\n",
            " state/ut govt should pace up vaccination process\n",
            "\n",
            "#unite2fightcorona https://t.co/8h6va1ycsl\n"
          ],
          "name": "stdout"
        }
      ]
    },
    {
      "cell_type": "code",
      "metadata": {
        "id": "0f2yew0vDV-r"
      },
      "source": [
        "import re"
      ],
      "execution_count": 133,
      "outputs": []
    },
    {
      "cell_type": "code",
      "metadata": {
        "colab": {
          "base_uri": "https://localhost:8080/"
        },
        "id": "7wlH_NNbDfcV",
        "outputId": "9bbb0e97-24fe-4e0f-fdd4-3ac630cee99d"
      },
      "source": [
        "for i in range(1001):\n",
        "  tweets_df2['Text'][i] = re.sub(\"@\\S+\", \" \", tweets_df2['Text'][i])\n",
        "  tweets_df2['Text'][i] = re.sub(\"#\\S+\", \" \", tweets_df2['Text'][i])\n",
        "  tweets_df2['Text'][i] = re.sub(r'https*\\S+', ' ', tweets_df2['Text'][i])"
      ],
      "execution_count": 134,
      "outputs": [
        {
          "output_type": "stream",
          "text": [
            "/usr/local/lib/python3.7/dist-packages/ipykernel_launcher.py:2: SettingWithCopyWarning: \n",
            "A value is trying to be set on a copy of a slice from a DataFrame\n",
            "\n",
            "See the caveats in the documentation: https://pandas.pydata.org/pandas-docs/stable/user_guide/indexing.html#returning-a-view-versus-a-copy\n",
            "  \n",
            "/usr/local/lib/python3.7/dist-packages/ipykernel_launcher.py:3: SettingWithCopyWarning: \n",
            "A value is trying to be set on a copy of a slice from a DataFrame\n",
            "\n",
            "See the caveats in the documentation: https://pandas.pydata.org/pandas-docs/stable/user_guide/indexing.html#returning-a-view-versus-a-copy\n",
            "  This is separate from the ipykernel package so we can avoid doing imports until\n",
            "/usr/local/lib/python3.7/dist-packages/ipykernel_launcher.py:4: SettingWithCopyWarning: \n",
            "A value is trying to be set on a copy of a slice from a DataFrame\n",
            "\n",
            "See the caveats in the documentation: https://pandas.pydata.org/pandas-docs/stable/user_guide/indexing.html#returning-a-view-versus-a-copy\n",
            "  after removing the cwd from sys.path.\n"
          ],
          "name": "stderr"
        }
      ]
    },
    {
      "cell_type": "code",
      "metadata": {
        "colab": {
          "base_uri": "https://localhost:8080/"
        },
        "id": "myGCBu8HDrki",
        "outputId": "5bd2c93a-9f65-4db6-8184-89cdb4f31431"
      },
      "source": [
        "print(tweets_df2['Text'][3])"
      ],
      "execution_count": 135,
      "outputs": [
        {
          "output_type": "stream",
          "text": [
            " \n",
            "\n",
            "mha guidelines for effective control of covid-19:\n",
            "\n",
            " under test-track-treat protocol new cases must be isolated\n",
            "\n",
            " fines shall be enforced for not wearing face mask, hand hygiene etc\n",
            "\n",
            " state/ut govt should pace up vaccination process\n",
            "\n",
            "   \n"
          ],
          "name": "stdout"
        }
      ]
    },
    {
      "cell_type": "code",
      "metadata": {
        "id": "SqhY0AQ7DwCK"
      },
      "source": [
        "import snscrape.modules.twitter as sntwitter\n",
        "import pandas as pd\n",
        "\n",
        "# Creating list to append tweet data to\n",
        "tweets_list2 = []\n",
        "\n",
        "# Using TwitterSearchScraper to scrape data and append tweets to list\n",
        "for i,tweet in enumerate(sntwitter.TwitterSearchScraper('indiafightscorona lang:\"hi\" since:2020-08-01 until:2021-03-25 near:\"mumbai\" within:4000mi').get_items()):\n",
        "    if i>5000:\n",
        "        break\n",
        "    tweets_list2.append([tweet.date, tweet.id, tweet.content, tweet.username])\n",
        "    \n",
        "# Creating a dataframe from the tweets list above\n",
        "tweets_df3 = pd.DataFrame(tweets_list2, columns=['Datetime', 'Tweet Id', 'Text', 'Username'])"
      ],
      "execution_count": 137,
      "outputs": []
    },
    {
      "cell_type": "code",
      "metadata": {
        "colab": {
          "base_uri": "https://localhost:8080/"
        },
        "id": "taG6N9CIFY1Z",
        "outputId": "282c4784-8ae4-41c4-f139-5010b04b58af"
      },
      "source": [
        "tweets_df3.info()\n",
        "print(tweets_df3['Text'][3])\n"
      ],
      "execution_count": 138,
      "outputs": [
        {
          "output_type": "stream",
          "text": [
            "<class 'pandas.core.frame.DataFrame'>\n",
            "RangeIndex: 1972 entries, 0 to 1971\n",
            "Data columns (total 4 columns):\n",
            " #   Column    Non-Null Count  Dtype              \n",
            "---  ------    --------------  -----              \n",
            " 0   Datetime  1972 non-null   datetime64[ns, UTC]\n",
            " 1   Tweet Id  1972 non-null   int64              \n",
            " 2   Text      1972 non-null   object             \n",
            " 3   Username  1972 non-null   object             \n",
            "dtypes: datetime64[ns, UTC](1), int64(1), object(2)\n",
            "memory usage: 61.8+ KB\n",
            "कोरोना काल में आयुर्वेदिक औषधियों ने लोगों को दिया सहारा। \n",
            "\n",
            "इसको ध्यान में रखते हुए आयुष चिकित्सा पद्धति को एनडीए सरकार दे रही है प्रोत्साहन।\n",
            "\n",
            "#Ayurveda \n",
            "#IndiaFightsCorona https://t.co/ZlNYPy62wi\n"
          ],
          "name": "stdout"
        }
      ]
    },
    {
      "cell_type": "code",
      "metadata": {
        "colab": {
          "base_uri": "https://localhost:8080/"
        },
        "id": "TK09y57IF0Gm",
        "outputId": "899db1a0-d528-4f9c-ea0d-75dc41fbe873"
      },
      "source": [
        "for i in range(1972):\n",
        "  tweets_df3['Text'][i] = re.sub(\"@\\S+\", \" \", tweets_df3['Text'][i])\n",
        "  tweets_df3['Text'][i] = re.sub(\"#\\S+\", \" \", tweets_df3['Text'][i])\n",
        "  tweets_df3['Text'][i] = re.sub(r'https*\\S+', ' ', tweets_df3['Text'][i])\n",
        "  "
      ],
      "execution_count": 141,
      "outputs": [
        {
          "output_type": "stream",
          "text": [
            "/usr/local/lib/python3.7/dist-packages/ipykernel_launcher.py:2: SettingWithCopyWarning: \n",
            "A value is trying to be set on a copy of a slice from a DataFrame\n",
            "\n",
            "See the caveats in the documentation: https://pandas.pydata.org/pandas-docs/stable/user_guide/indexing.html#returning-a-view-versus-a-copy\n",
            "  \n",
            "/usr/local/lib/python3.7/dist-packages/ipykernel_launcher.py:3: SettingWithCopyWarning: \n",
            "A value is trying to be set on a copy of a slice from a DataFrame\n",
            "\n",
            "See the caveats in the documentation: https://pandas.pydata.org/pandas-docs/stable/user_guide/indexing.html#returning-a-view-versus-a-copy\n",
            "  This is separate from the ipykernel package so we can avoid doing imports until\n",
            "/usr/local/lib/python3.7/dist-packages/ipykernel_launcher.py:4: SettingWithCopyWarning: \n",
            "A value is trying to be set on a copy of a slice from a DataFrame\n",
            "\n",
            "See the caveats in the documentation: https://pandas.pydata.org/pandas-docs/stable/user_guide/indexing.html#returning-a-view-versus-a-copy\n",
            "  after removing the cwd from sys.path.\n"
          ],
          "name": "stderr"
        }
      ]
    },
    {
      "cell_type": "code",
      "metadata": {
        "colab": {
          "base_uri": "https://localhost:8080/"
        },
        "id": "Ti9GgPvXF5gW",
        "outputId": "e7b17855-844f-4212-f5a9-8f6e79f8e9d0"
      },
      "source": [
        "tweets_df3.info()\n",
        "print(tweets_df3['Text'][3])"
      ],
      "execution_count": 142,
      "outputs": [
        {
          "output_type": "stream",
          "text": [
            "<class 'pandas.core.frame.DataFrame'>\n",
            "RangeIndex: 1972 entries, 0 to 1971\n",
            "Data columns (total 4 columns):\n",
            " #   Column    Non-Null Count  Dtype              \n",
            "---  ------    --------------  -----              \n",
            " 0   Datetime  1972 non-null   datetime64[ns, UTC]\n",
            " 1   Tweet Id  1972 non-null   int64              \n",
            " 2   Text      1972 non-null   object             \n",
            " 3   Username  1972 non-null   object             \n",
            "dtypes: datetime64[ns, UTC](1), int64(1), object(2)\n",
            "memory usage: 61.8+ KB\n",
            "कोरोना काल में आयुर्वेदिक औषधियों ने लोगों को दिया सहारा। \n",
            "\n",
            "इसको ध्यान में रखते हुए आयुष चिकित्सा पद्धति को एनडीए सरकार दे रही है प्रोत्साहन।\n",
            "\n",
            "  \n",
            "   \n"
          ],
          "name": "stdout"
        }
      ]
    },
    {
      "cell_type": "code",
      "metadata": {
        "id": "QDngsDhjGCZ-"
      },
      "source": [
        "import snscrape.modules.twitter as sntwitter\n",
        "import pandas as pd\n",
        "\n",
        "# Creating list to append tweet data to\n",
        "tweets_list2 = []\n",
        "\n",
        "# Using TwitterSearchScraper to scrape data and append tweets to list\n",
        "for i,tweet in enumerate(sntwitter.TwitterSearchScraper('indiafightscorona lang:\"mr\" since:2020-08-01 until:2021-03-25 near:\"mumbai\" within:4000mi').get_items()):\n",
        "    if i>5000:\n",
        "        break\n",
        "    tweets_list2.append([tweet.date, tweet.id, tweet.content, tweet.username])\n",
        "    \n",
        "# Creating a dataframe from the tweets list above\n",
        "tweets_df4= pd.DataFrame(tweets_list2, columns=['Datetime', 'Tweet Id', 'Text', 'Username'])"
      ],
      "execution_count": 146,
      "outputs": []
    },
    {
      "cell_type": "code",
      "metadata": {
        "colab": {
          "base_uri": "https://localhost:8080/"
        },
        "id": "mhE83czzJDXU",
        "outputId": "69295a39-351a-4fa2-9130-7b779e730414"
      },
      "source": [
        "tweets_df4.info()\n",
        "print(tweets_df4['Text'][3])"
      ],
      "execution_count": 147,
      "outputs": [
        {
          "output_type": "stream",
          "text": [
            "<class 'pandas.core.frame.DataFrame'>\n",
            "RangeIndex: 28 entries, 0 to 27\n",
            "Data columns (total 4 columns):\n",
            " #   Column    Non-Null Count  Dtype              \n",
            "---  ------    --------------  -----              \n",
            " 0   Datetime  28 non-null     datetime64[ns, UTC]\n",
            " 1   Tweet Id  28 non-null     int64              \n",
            " 2   Text      28 non-null     object             \n",
            " 3   Username  28 non-null     object             \n",
            "dtypes: datetime64[ns, UTC](1), int64(1), object(2)\n",
            "memory usage: 1.0+ KB\n",
            "कोरोनाविरुद्धच्या जागतिक लढाईचा भाग म्हणून माननीय पंतप्रधान @narendramodi कोरोना लसीकरणाचा पहिला डोस AIIMS रुग्णालयात घेतला. यावेळी त्यांनी कोरोना लस घेण्यासाठी पात्र असलेल्या सर्व नागरिकांना नजीकच्या लसीकरण केंद्रावर जाऊन लस घेण्याचे आवाहन केले\n",
            "#IndiaFightsCorona #vaccine https://t.co/S6x7WepUCa\n"
          ],
          "name": "stdout"
        }
      ]
    },
    {
      "cell_type": "code",
      "metadata": {
        "colab": {
          "base_uri": "https://localhost:8080/",
          "height": 673
        },
        "id": "XHo8LyFIJONO",
        "outputId": "ee46c2d8-5116-45ad-c495-27f22034531b"
      },
      "source": [
        "for i in range(29):\n",
        "  tweets_df4['Text'][i] = re.sub(\"@\\S+\", \" \", tweets_df4['Text'][i])\n",
        "  tweets_df4['Text'][i] = re.sub(\"#\\S+\", \" \", tweets_df4['Text'][i])\n",
        "  tweets_df4['Text'][i] = re.sub(r'https*\\S+', ' ', tweets_df4['Text'][i])\n",
        "  "
      ],
      "execution_count": 148,
      "outputs": [
        {
          "output_type": "stream",
          "text": [
            "/usr/local/lib/python3.7/dist-packages/ipykernel_launcher.py:2: SettingWithCopyWarning: \n",
            "A value is trying to be set on a copy of a slice from a DataFrame\n",
            "\n",
            "See the caveats in the documentation: https://pandas.pydata.org/pandas-docs/stable/user_guide/indexing.html#returning-a-view-versus-a-copy\n",
            "  \n",
            "/usr/local/lib/python3.7/dist-packages/ipykernel_launcher.py:3: SettingWithCopyWarning: \n",
            "A value is trying to be set on a copy of a slice from a DataFrame\n",
            "\n",
            "See the caveats in the documentation: https://pandas.pydata.org/pandas-docs/stable/user_guide/indexing.html#returning-a-view-versus-a-copy\n",
            "  This is separate from the ipykernel package so we can avoid doing imports until\n",
            "/usr/local/lib/python3.7/dist-packages/ipykernel_launcher.py:4: SettingWithCopyWarning: \n",
            "A value is trying to be set on a copy of a slice from a DataFrame\n",
            "\n",
            "See the caveats in the documentation: https://pandas.pydata.org/pandas-docs/stable/user_guide/indexing.html#returning-a-view-versus-a-copy\n",
            "  after removing the cwd from sys.path.\n"
          ],
          "name": "stderr"
        },
        {
          "output_type": "error",
          "ename": "KeyError",
          "evalue": "ignored",
          "traceback": [
            "\u001b[0;31m---------------------------------------------------------------------------\u001b[0m",
            "\u001b[0;31mValueError\u001b[0m                                Traceback (most recent call last)",
            "\u001b[0;32m/usr/local/lib/python3.7/dist-packages/pandas/core/indexes/range.py\u001b[0m in \u001b[0;36mget_loc\u001b[0;34m(self, key, method, tolerance)\u001b[0m\n\u001b[1;32m    354\u001b[0m                 \u001b[0;32mtry\u001b[0m\u001b[0;34m:\u001b[0m\u001b[0;34m\u001b[0m\u001b[0;34m\u001b[0m\u001b[0m\n\u001b[0;32m--> 355\u001b[0;31m                     \u001b[0;32mreturn\u001b[0m \u001b[0mself\u001b[0m\u001b[0;34m.\u001b[0m\u001b[0m_range\u001b[0m\u001b[0;34m.\u001b[0m\u001b[0mindex\u001b[0m\u001b[0;34m(\u001b[0m\u001b[0mnew_key\u001b[0m\u001b[0;34m)\u001b[0m\u001b[0;34m\u001b[0m\u001b[0;34m\u001b[0m\u001b[0m\n\u001b[0m\u001b[1;32m    356\u001b[0m                 \u001b[0;32mexcept\u001b[0m \u001b[0mValueError\u001b[0m \u001b[0;32mas\u001b[0m \u001b[0merr\u001b[0m\u001b[0;34m:\u001b[0m\u001b[0;34m\u001b[0m\u001b[0;34m\u001b[0m\u001b[0m\n",
            "\u001b[0;31mValueError\u001b[0m: 28 is not in range",
            "\nThe above exception was the direct cause of the following exception:\n",
            "\u001b[0;31mKeyError\u001b[0m                                  Traceback (most recent call last)",
            "\u001b[0;32m<ipython-input-148-2e58a2f7e215>\u001b[0m in \u001b[0;36m<module>\u001b[0;34m()\u001b[0m\n\u001b[1;32m      1\u001b[0m \u001b[0;32mfor\u001b[0m \u001b[0mi\u001b[0m \u001b[0;32min\u001b[0m \u001b[0mrange\u001b[0m\u001b[0;34m(\u001b[0m\u001b[0;36m29\u001b[0m\u001b[0;34m)\u001b[0m\u001b[0;34m:\u001b[0m\u001b[0;34m\u001b[0m\u001b[0;34m\u001b[0m\u001b[0m\n\u001b[0;32m----> 2\u001b[0;31m   \u001b[0mtweets_df4\u001b[0m\u001b[0;34m[\u001b[0m\u001b[0;34m'Text'\u001b[0m\u001b[0;34m]\u001b[0m\u001b[0;34m[\u001b[0m\u001b[0mi\u001b[0m\u001b[0;34m]\u001b[0m \u001b[0;34m=\u001b[0m \u001b[0mre\u001b[0m\u001b[0;34m.\u001b[0m\u001b[0msub\u001b[0m\u001b[0;34m(\u001b[0m\u001b[0;34m\"@\\S+\"\u001b[0m\u001b[0;34m,\u001b[0m \u001b[0;34m\" \"\u001b[0m\u001b[0;34m,\u001b[0m \u001b[0mtweets_df4\u001b[0m\u001b[0;34m[\u001b[0m\u001b[0;34m'Text'\u001b[0m\u001b[0;34m]\u001b[0m\u001b[0;34m[\u001b[0m\u001b[0mi\u001b[0m\u001b[0;34m]\u001b[0m\u001b[0;34m)\u001b[0m\u001b[0;34m\u001b[0m\u001b[0;34m\u001b[0m\u001b[0m\n\u001b[0m\u001b[1;32m      3\u001b[0m   \u001b[0mtweets_df4\u001b[0m\u001b[0;34m[\u001b[0m\u001b[0;34m'Text'\u001b[0m\u001b[0;34m]\u001b[0m\u001b[0;34m[\u001b[0m\u001b[0mi\u001b[0m\u001b[0;34m]\u001b[0m \u001b[0;34m=\u001b[0m \u001b[0mre\u001b[0m\u001b[0;34m.\u001b[0m\u001b[0msub\u001b[0m\u001b[0;34m(\u001b[0m\u001b[0;34m\"#\\S+\"\u001b[0m\u001b[0;34m,\u001b[0m \u001b[0;34m\" \"\u001b[0m\u001b[0;34m,\u001b[0m \u001b[0mtweets_df4\u001b[0m\u001b[0;34m[\u001b[0m\u001b[0;34m'Text'\u001b[0m\u001b[0;34m]\u001b[0m\u001b[0;34m[\u001b[0m\u001b[0mi\u001b[0m\u001b[0;34m]\u001b[0m\u001b[0;34m)\u001b[0m\u001b[0;34m\u001b[0m\u001b[0;34m\u001b[0m\u001b[0m\n\u001b[1;32m      4\u001b[0m   \u001b[0mtweets_df4\u001b[0m\u001b[0;34m[\u001b[0m\u001b[0;34m'Text'\u001b[0m\u001b[0;34m]\u001b[0m\u001b[0;34m[\u001b[0m\u001b[0mi\u001b[0m\u001b[0;34m]\u001b[0m \u001b[0;34m=\u001b[0m \u001b[0mre\u001b[0m\u001b[0;34m.\u001b[0m\u001b[0msub\u001b[0m\u001b[0;34m(\u001b[0m\u001b[0;34mr'https*\\S+'\u001b[0m\u001b[0;34m,\u001b[0m \u001b[0;34m' '\u001b[0m\u001b[0;34m,\u001b[0m \u001b[0mtweets_df4\u001b[0m\u001b[0;34m[\u001b[0m\u001b[0;34m'Text'\u001b[0m\u001b[0;34m]\u001b[0m\u001b[0;34m[\u001b[0m\u001b[0mi\u001b[0m\u001b[0;34m]\u001b[0m\u001b[0;34m)\u001b[0m\u001b[0;34m\u001b[0m\u001b[0;34m\u001b[0m\u001b[0m\n\u001b[1;32m      5\u001b[0m \u001b[0;34m\u001b[0m\u001b[0m\n",
            "\u001b[0;32m/usr/local/lib/python3.7/dist-packages/pandas/core/series.py\u001b[0m in \u001b[0;36m__getitem__\u001b[0;34m(self, key)\u001b[0m\n\u001b[1;32m    880\u001b[0m \u001b[0;34m\u001b[0m\u001b[0m\n\u001b[1;32m    881\u001b[0m         \u001b[0;32melif\u001b[0m \u001b[0mkey_is_scalar\u001b[0m\u001b[0;34m:\u001b[0m\u001b[0;34m\u001b[0m\u001b[0;34m\u001b[0m\u001b[0m\n\u001b[0;32m--> 882\u001b[0;31m             \u001b[0;32mreturn\u001b[0m \u001b[0mself\u001b[0m\u001b[0;34m.\u001b[0m\u001b[0m_get_value\u001b[0m\u001b[0;34m(\u001b[0m\u001b[0mkey\u001b[0m\u001b[0;34m)\u001b[0m\u001b[0;34m\u001b[0m\u001b[0;34m\u001b[0m\u001b[0m\n\u001b[0m\u001b[1;32m    883\u001b[0m \u001b[0;34m\u001b[0m\u001b[0m\n\u001b[1;32m    884\u001b[0m         \u001b[0;32mif\u001b[0m \u001b[0mis_hashable\u001b[0m\u001b[0;34m(\u001b[0m\u001b[0mkey\u001b[0m\u001b[0;34m)\u001b[0m\u001b[0;34m:\u001b[0m\u001b[0;34m\u001b[0m\u001b[0;34m\u001b[0m\u001b[0m\n",
            "\u001b[0;32m/usr/local/lib/python3.7/dist-packages/pandas/core/series.py\u001b[0m in \u001b[0;36m_get_value\u001b[0;34m(self, label, takeable)\u001b[0m\n\u001b[1;32m    988\u001b[0m \u001b[0;34m\u001b[0m\u001b[0m\n\u001b[1;32m    989\u001b[0m         \u001b[0;31m# Similar to Index.get_value, but we do not fall back to positional\u001b[0m\u001b[0;34m\u001b[0m\u001b[0;34m\u001b[0m\u001b[0;34m\u001b[0m\u001b[0m\n\u001b[0;32m--> 990\u001b[0;31m         \u001b[0mloc\u001b[0m \u001b[0;34m=\u001b[0m \u001b[0mself\u001b[0m\u001b[0;34m.\u001b[0m\u001b[0mindex\u001b[0m\u001b[0;34m.\u001b[0m\u001b[0mget_loc\u001b[0m\u001b[0;34m(\u001b[0m\u001b[0mlabel\u001b[0m\u001b[0;34m)\u001b[0m\u001b[0;34m\u001b[0m\u001b[0;34m\u001b[0m\u001b[0m\n\u001b[0m\u001b[1;32m    991\u001b[0m         \u001b[0;32mreturn\u001b[0m \u001b[0mself\u001b[0m\u001b[0;34m.\u001b[0m\u001b[0mindex\u001b[0m\u001b[0;34m.\u001b[0m\u001b[0m_get_values_for_loc\u001b[0m\u001b[0;34m(\u001b[0m\u001b[0mself\u001b[0m\u001b[0;34m,\u001b[0m \u001b[0mloc\u001b[0m\u001b[0;34m,\u001b[0m \u001b[0mlabel\u001b[0m\u001b[0;34m)\u001b[0m\u001b[0;34m\u001b[0m\u001b[0;34m\u001b[0m\u001b[0m\n\u001b[1;32m    992\u001b[0m \u001b[0;34m\u001b[0m\u001b[0m\n",
            "\u001b[0;32m/usr/local/lib/python3.7/dist-packages/pandas/core/indexes/range.py\u001b[0m in \u001b[0;36mget_loc\u001b[0;34m(self, key, method, tolerance)\u001b[0m\n\u001b[1;32m    355\u001b[0m                     \u001b[0;32mreturn\u001b[0m \u001b[0mself\u001b[0m\u001b[0;34m.\u001b[0m\u001b[0m_range\u001b[0m\u001b[0;34m.\u001b[0m\u001b[0mindex\u001b[0m\u001b[0;34m(\u001b[0m\u001b[0mnew_key\u001b[0m\u001b[0;34m)\u001b[0m\u001b[0;34m\u001b[0m\u001b[0;34m\u001b[0m\u001b[0m\n\u001b[1;32m    356\u001b[0m                 \u001b[0;32mexcept\u001b[0m \u001b[0mValueError\u001b[0m \u001b[0;32mas\u001b[0m \u001b[0merr\u001b[0m\u001b[0;34m:\u001b[0m\u001b[0;34m\u001b[0m\u001b[0;34m\u001b[0m\u001b[0m\n\u001b[0;32m--> 357\u001b[0;31m                     \u001b[0;32mraise\u001b[0m \u001b[0mKeyError\u001b[0m\u001b[0;34m(\u001b[0m\u001b[0mkey\u001b[0m\u001b[0;34m)\u001b[0m \u001b[0;32mfrom\u001b[0m \u001b[0merr\u001b[0m\u001b[0;34m\u001b[0m\u001b[0;34m\u001b[0m\u001b[0m\n\u001b[0m\u001b[1;32m    358\u001b[0m             \u001b[0;32mraise\u001b[0m \u001b[0mKeyError\u001b[0m\u001b[0;34m(\u001b[0m\u001b[0mkey\u001b[0m\u001b[0;34m)\u001b[0m\u001b[0;34m\u001b[0m\u001b[0;34m\u001b[0m\u001b[0m\n\u001b[1;32m    359\u001b[0m         \u001b[0;32mreturn\u001b[0m \u001b[0msuper\u001b[0m\u001b[0;34m(\u001b[0m\u001b[0;34m)\u001b[0m\u001b[0;34m.\u001b[0m\u001b[0mget_loc\u001b[0m\u001b[0;34m(\u001b[0m\u001b[0mkey\u001b[0m\u001b[0;34m,\u001b[0m \u001b[0mmethod\u001b[0m\u001b[0;34m=\u001b[0m\u001b[0mmethod\u001b[0m\u001b[0;34m,\u001b[0m \u001b[0mtolerance\u001b[0m\u001b[0;34m=\u001b[0m\u001b[0mtolerance\u001b[0m\u001b[0;34m)\u001b[0m\u001b[0;34m\u001b[0m\u001b[0;34m\u001b[0m\u001b[0m\n",
            "\u001b[0;31mKeyError\u001b[0m: 28"
          ]
        }
      ]
    },
    {
      "cell_type": "code",
      "metadata": {
        "colab": {
          "base_uri": "https://localhost:8080/"
        },
        "id": "_BJrQBNAJytM",
        "outputId": "e8df1daa-de6a-45cf-955d-7d1a440d85cb"
      },
      "source": [
        "print(tweets_df4['Text'][3])"
      ],
      "execution_count": 149,
      "outputs": [
        {
          "output_type": "stream",
          "text": [
            "कोरोनाविरुद्धच्या जागतिक लढाईचा भाग म्हणून माननीय पंतप्रधान   कोरोना लसीकरणाचा पहिला डोस AIIMS रुग्णालयात घेतला. यावेळी त्यांनी कोरोना लस घेण्यासाठी पात्र असलेल्या सर्व नागरिकांना नजीकच्या लसीकरण केंद्रावर जाऊन लस घेण्याचे आवाहन केले\n",
            "     \n"
          ],
          "name": "stdout"
        }
      ]
    },
    {
      "cell_type": "code",
      "metadata": {
        "id": "YuUL_YumKdZ6"
      },
      "source": [
        "frames = [tweets_df2, tweets_df3, tweets_df4]\n",
        "result = pd.concat(frames)"
      ],
      "execution_count": 150,
      "outputs": []
    },
    {
      "cell_type": "code",
      "metadata": {
        "colab": {
          "base_uri": "https://localhost:8080/",
          "height": 402
        },
        "id": "y4mxN3LRLPK0",
        "outputId": "474e73c5-372b-44c4-fb6d-bafb6bc88dce"
      },
      "source": [
        "result"
      ],
      "execution_count": 151,
      "outputs": [
        {
          "output_type": "execute_result",
          "data": {
            "text/html": [
              "<div>\n",
              "<style scoped>\n",
              "    .dataframe tbody tr th:only-of-type {\n",
              "        vertical-align: middle;\n",
              "    }\n",
              "\n",
              "    .dataframe tbody tr th {\n",
              "        vertical-align: top;\n",
              "    }\n",
              "\n",
              "    .dataframe thead th {\n",
              "        text-align: right;\n",
              "    }\n",
              "</style>\n",
              "<table border=\"1\" class=\"dataframe\">\n",
              "  <thead>\n",
              "    <tr style=\"text-align: right;\">\n",
              "      <th></th>\n",
              "      <th>Datetime</th>\n",
              "      <th>Tweet Id</th>\n",
              "      <th>Text</th>\n",
              "      <th>Username</th>\n",
              "    </tr>\n",
              "  </thead>\n",
              "  <tbody>\n",
              "    <tr>\n",
              "      <th>0</th>\n",
              "      <td>2021-03-24 14:48:32+00:00</td>\n",
              "      <td>1374734886116806656</td>\n",
              "      <td>driving  \\n</td>\n",
              "      <td>rekhadixit123</td>\n",
              "    </tr>\n",
              "    <tr>\n",
              "      <th>1</th>\n",
              "      <td>2021-03-24 14:17:12+00:00</td>\n",
              "      <td>1374726997583130624</td>\n",
              "      <td>\\n24th march 21   6pm bulletin\\n\\n669 posit...</td>\n",
              "      <td>NANDKISHOREKUM5</td>\n",
              "    </tr>\n",
              "    <tr>\n",
              "      <th>2</th>\n",
              "      <td>2021-03-24 10:31:24+00:00</td>\n",
              "      <td>1374670175262273539</td>\n",
              "      <td>\\nsuch callous behaviour!!\\nlike their ralli...</td>\n",
              "      <td>ua_shirin</td>\n",
              "    </tr>\n",
              "    <tr>\n",
              "      <th>3</th>\n",
              "      <td>2021-03-24 10:30:34+00:00</td>\n",
              "      <td>1374669965584863235</td>\n",
              "      <td>\\n\\nmha guidelines for effective control of c...</td>\n",
              "      <td>PIBHyderabad</td>\n",
              "    </tr>\n",
              "    <tr>\n",
              "      <th>4</th>\n",
              "      <td>2021-03-24 08:57:35+00:00</td>\n",
              "      <td>1374646565273444352</td>\n",
              "      <td>we are the frontline workers.\\nwe stand by the...</td>\n",
              "      <td>FOBSrinagar</td>\n",
              "    </tr>\n",
              "    <tr>\n",
              "      <th>...</th>\n",
              "      <td>...</td>\n",
              "      <td>...</td>\n",
              "      <td>...</td>\n",
              "      <td>...</td>\n",
              "    </tr>\n",
              "    <tr>\n",
              "      <th>23</th>\n",
              "      <td>2020-08-15 08:05:03+00:00</td>\n",
              "      <td>1294545626336620545</td>\n",
              "      <td>बीड जिल्हा मजूर सहकारी संघाचे चेअरमन श्री. बन्...</td>\n",
              "      <td>dhananjay_munde</td>\n",
              "    </tr>\n",
              "    <tr>\n",
              "      <th>24</th>\n",
              "      <td>2020-08-15 07:04:32+00:00</td>\n",
              "      <td>1294530396651044864</td>\n",
              "      <td>भारतीय स्वातंत्र्यदिन चिरायू होवो...\\nकोरोनाच्...</td>\n",
              "      <td>NMMConline</td>\n",
              "    </tr>\n",
              "    <tr>\n",
              "      <th>25</th>\n",
              "      <td>2020-08-11 13:02:29+00:00</td>\n",
              "      <td>1293170925483917318</td>\n",
              "      <td>देशात टेस्टिंग ची संख्या वाढून, दररोज ७ लाखापर...</td>\n",
              "      <td>mpsshrangare</td>\n",
              "    </tr>\n",
              "    <tr>\n",
              "      <th>26</th>\n",
              "      <td>2020-08-11 06:15:59+00:00</td>\n",
              "      <td>1293068629269856256</td>\n",
              "      <td>\"झिरो कोविड मोहीम\"  द्वारा चारकोप मतदार संघात ...</td>\n",
              "      <td>YogeshPadwal5</td>\n",
              "    </tr>\n",
              "    <tr>\n",
              "      <th>27</th>\n",
              "      <td>2020-08-07 09:25:16+00:00</td>\n",
              "      <td>1291666711939227649</td>\n",
              "      <td>फेज वन क्लिनिकल चाचणी महाराष्ट्रात   जिल्ह्य...</td>\n",
              "      <td>airnews_mumbai</td>\n",
              "    </tr>\n",
              "  </tbody>\n",
              "</table>\n",
              "<p>5226 rows × 4 columns</p>\n",
              "</div>"
            ],
            "text/plain": [
              "                    Datetime  ...         Username\n",
              "0  2021-03-24 14:48:32+00:00  ...    rekhadixit123\n",
              "1  2021-03-24 14:17:12+00:00  ...  NANDKISHOREKUM5\n",
              "2  2021-03-24 10:31:24+00:00  ...        ua_shirin\n",
              "3  2021-03-24 10:30:34+00:00  ...     PIBHyderabad\n",
              "4  2021-03-24 08:57:35+00:00  ...      FOBSrinagar\n",
              "..                       ...  ...              ...\n",
              "23 2020-08-15 08:05:03+00:00  ...  dhananjay_munde\n",
              "24 2020-08-15 07:04:32+00:00  ...       NMMConline\n",
              "25 2020-08-11 13:02:29+00:00  ...     mpsshrangare\n",
              "26 2020-08-11 06:15:59+00:00  ...    YogeshPadwal5\n",
              "27 2020-08-07 09:25:16+00:00  ...   airnews_mumbai\n",
              "\n",
              "[5226 rows x 4 columns]"
            ]
          },
          "metadata": {
            "tags": []
          },
          "execution_count": 151
        }
      ]
    },
    {
      "cell_type": "code",
      "metadata": {
        "id": "L8Iu_lqmLQwC"
      },
      "source": [
        ""
      ],
      "execution_count": null,
      "outputs": []
    }
  ]
}