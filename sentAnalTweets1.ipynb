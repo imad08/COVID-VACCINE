{
  "nbformat": 4,
  "nbformat_minor": 0,
  "metadata": {
    "colab": {
      "name": "sentAnalTweets1.ipynb",
      "provenance": []
    },
    "kernelspec": {
      "name": "python3",
      "display_name": "Python 3"
    },
    "language_info": {
      "name": "python"
    }
  },
  "cells": [
    {
      "cell_type": "code",
      "metadata": {
        "colab": {
          "base_uri": "https://localhost:8080/"
        },
        "id": "T9KBIRcju0x4",
        "outputId": "84c84790-3dfc-4d4b-968d-5943860925c3"
      },
      "source": [
        "import pandas as pd\n",
        "import re\n",
        "from textblob import TextBlob\n",
        "\n",
        "df = pd.read_csv('nlp2.csv')\n",
        "print(df.head())\n",
        "\n",
        "#creates a function to remove all @'s, hashtags, and links\n",
        "#Then applies it to the dataframe\n",
        "def cleanUpTweet(txt):\n",
        "  txt = re.sub(r'@[A-Za-z0-9_]+', '', txt)\n",
        "  txt = re.sub(r'#', '', txt)\n",
        "  txt = re.sub(r'RT : ', '', txt)\n",
        "  txt = re.sub(r'https?:\\/\\/[A-Za-z0-9\\.\\/]+', '', txt)\n",
        "  txt = re.sub(r'the', '', txt)\n",
        "  txt = re.sub(r'and', '', txt)\n",
        "  txt = re.sub(r'to', '', txt)\n",
        "  return txt\n",
        "\n",
        "df['Text'] = df['Text'].apply(cleanUpTweet)\n",
        "\n",
        "#creates a function that determines subjectivity and polarity from the textblob package\n",
        "def getTextSubjectivity(txt):\n",
        "  return TextBlob(txt).sentiment.subjectivity\n",
        "\n",
        "def getTextPolarity(txt):\n",
        "  return TextBlob(txt).sentiment.polarity\n",
        "\n",
        "#applies these functions to the dataframe\n",
        "df['Subjectivity'] = df['Text'].apply(getTextSubjectivity)\n",
        "df['Polarity'] = df['Text'].apply(getTextPolarity)\n",
        "\n",
        "#builds a function to calculate and categorize each tweet ad Negative, Neutral, and Positive\n",
        "def getTextAnalysis(a):\n",
        "  if a < 0:\n",
        "    return \"Negative\"\n",
        "  elif a == 0:\n",
        "    return \"Neutral\"\n",
        "  else:\n",
        "    return \"Positive\"\n",
        "\n",
        "#creates another column called Score and applies the function to the dataframe\n",
        "df['Score'] = df['Polarity'].apply(getTextAnalysis)\n",
        "\n",
        "#calculates percentage of positive, negative, and neutral tweets\n",
        "positive = df[df['Score'] == 'Positive']\n",
        "print(str(positive.shape[0]/(df.shape[0])*100) + \" % of positive tweets\")\n",
        "positive = df[df['Score'] == 'Neutral']\n",
        "print(str(positive.shape[0]/(df.shape[0])*100) + \" % of neutral tweets\")\n",
        "positive = df[df['Score'] == 'Negative']\n",
        "print(str(positive.shape[0]/(df.shape[0])*100) + \" % of negative tweets\")"
      ],
      "execution_count": null,
      "outputs": [
        {
          "output_type": "stream",
          "text": [
            "   Unnamed: 0  Unnamed: 0.1  ...        Username  sentiment \n",
            "0           0             0  ...  PrabhadeviPAWA          -1\n",
            "1           1             1  ...    sirajnoorani           0\n",
            "2           2             2  ...         Abhi972          -1\n",
            "3           3             3  ...         nekzaad          -1\n",
            "4           4             4  ...    AshaDSouza11           0\n",
            "\n",
            "[5 rows x 7 columns]\n",
            "57.286432160804026 % of positive tweets\n",
            "32.663316582914575 % of neutral tweets\n",
            "10.050251256281408 % of negative tweets\n"
          ],
          "name": "stdout"
        }
      ]
    },
    {
      "cell_type": "code",
      "metadata": {
        "colab": {
          "base_uri": "https://localhost:8080/"
        },
        "id": "_Es7bOJuwYeM",
        "outputId": "124dae83-74a1-4635-da4e-e1a5ea902548"
      },
      "source": [
        "print(df.head())\n",
        "df.to_csv('nlp1.csv')"
      ],
      "execution_count": null,
      "outputs": [
        {
          "output_type": "stream",
          "text": [
            "   Unnamed: 0  Unnamed: 0.1  ...  Polarity     Score\n",
            "0           0             0  ...  0.000000   Neutral\n",
            "1           1             1  ...  0.000000   Neutral\n",
            "2           2             2  ... -0.018750  Negative\n",
            "3           3             3  ...  0.000000   Neutral\n",
            "4           4             4  ...  0.033333  Positive\n",
            "\n",
            "[5 rows x 10 columns]\n"
          ],
          "name": "stdout"
        }
      ]
    },
    {
      "cell_type": "code",
      "metadata": {
        "id": "oIYNgAhjwmTl"
      },
      "source": [
        ""
      ],
      "execution_count": null,
      "outputs": []
    }
  ]
}